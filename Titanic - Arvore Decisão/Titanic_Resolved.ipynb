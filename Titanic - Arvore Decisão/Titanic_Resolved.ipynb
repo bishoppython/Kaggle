{
  "nbformat": 4,
  "nbformat_minor": 0,
  "metadata": {
    "colab": {
      "provenance": []
    },
    "kernelspec": {
      "name": "python3",
      "display_name": "Python 3"
    },
    "language_info": {
      "name": "python"
    }
  },
  "cells": [
    {
      "cell_type": "code",
      "execution_count": null,
      "metadata": {
        "id": "emqCVY9d7M4y"
      },
      "outputs": [],
      "source": [
        "!pip install pandas\n",
        "!pip install -U scikit-learn"
      ]
    },
    {
      "cell_type": "code",
      "source": [
        "# Importar bibliotecas\n",
        "import pandas as pd\n",
        "from sklearn.tree import DecisionTreeClassifier\n",
        "from sklearn.model_selection import train_test_split\n",
        "from sklearn.metrics import accuracy_score\n",
        "\n",
        "# Carregar dados de treinamento\n",
        "data = pd.read_csv('/content/drive/MyDrive/Colab Notebooks/train.csv')\n",
        "\n",
        "# Selecionar as colunas relevantes\n",
        "X = data[['Pclass', 'Sex', 'Age', 'SibSp', 'Parch', 'Fare', 'Embarked']]\n",
        "y = data['Survived']\n",
        "\n",
        "# Transformar dados categóricos em numéricos\n",
        "X = pd.get_dummies(X)\n",
        "\n",
        "# Preencher valores ausentes com a média\n",
        "X = X.fillna(X.mean())\n",
        "\n",
        "# Dividir os dados em treinamento e teste\n",
        "X_train, X_test, y_train, y_test = train_test_split(X, y, test_size=0.2)\n",
        "\n",
        "# Treinar o modelo\n",
        "clf = DecisionTreeClassifier()\n",
        "clf.fit(X_train, y_train)\n",
        "\n",
        "# Fazer previsões\n",
        "y_pred = clf.predict(X_test)\n",
        "\n",
        "# Calcular a acurácia\n",
        "acc = accuracy_score(y_test, y_pred)\n",
        "print(\"Acurácia: {:.2f}%\".format(acc*100))\n",
        "\n",
        "# Carregar dados de teste\n",
        "test_data = pd.read_csv('/content/drive/MyDrive/Colab Notebooks/test.csv')\n",
        "\n",
        "# Selecionar as colunas relevantes\n",
        "X_test = test_data[['Pclass', 'Sex', 'Age', 'SibSp', 'Parch', 'Fare', 'Embarked']]\n",
        "\n",
        "# Transformar dados categóricos em numéricos\n",
        "X_test = pd.get_dummies(X_test)\n",
        "\n",
        "# Preencher valores ausentes com a média\n",
        "X_test = X_test.fillna(X_test.mean())\n",
        "\n",
        "# Fazer previsões\n",
        "y_pred = clf.predict(X_test)\n",
        "\n",
        "# Criar um DataFrame com as previsões e o ID do passageiro\n",
        "submission = pd.DataFrame({'PassengerId': test_data['PassengerId'], 'Survived': y_pred})\n",
        "\n",
        "# Salvar o arquivo de submissão como CSV\n",
        "submission.to_csv('submission.csv', index=False)"
      ],
      "metadata": {
        "colab": {
          "base_uri": "https://localhost:8080/"
        },
        "id": "QR47nDz6F3lV",
        "outputId": "7fd09a35-2019-423f-d2e7-6f74bdc41bb8"
      },
      "execution_count": 27,
      "outputs": [
        {
          "output_type": "stream",
          "name": "stdout",
          "text": [
            "Acurácia: 78.77%\n"
          ]
        }
      ]
    }
  ]
}